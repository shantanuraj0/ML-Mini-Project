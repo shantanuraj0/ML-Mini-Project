{
  "nbformat": 4,
  "nbformat_minor": 0,
  "metadata": {
    "colab": {
      "name": "Ml_project_Novelty.ipynb",
      "provenance": []
    },
    "kernelspec": {
      "name": "python3",
      "display_name": "Python 3"
    },
    "language_info": {
      "name": "python"
    }
  },
  "cells": [
    {
      "cell_type": "code",
      "metadata": {
        "id": "JDhKFuIDOCGB"
      },
      "source": [
        "import numpy as np\n",
        "import pandas as pd\n",
        "import seaborn as sns    #Seaborn is an open-source Python library built on top of matplotlib. It is used for data visualization and exploratory data analysis. Seaborn works easily with dataframes and the Pandas library\n",
        "import matplotlib.pyplot as plt\n",
        "import warnings       # Warnings are provided to warn the developer of situations that aren't necessarily exceptions. Usually, a warning occurs when there is some obsolete of certain programming elements, such as keyword, function or class, etc\n",
        "# to enable the inline plotting, where the plots/graphs will be displayed just below the cell where your plotting commands are written\n",
        "%matplotlib inline   \n",
        "warnings.filterwarnings('ignore')\n",
        "pd.options.display.max_columns = 99 # to avoid skipping of any attributes"
      ],
      "execution_count": null,
      "outputs": []
    },
    {
      "cell_type": "code",
      "metadata": {
        "id": "QOhmp-6gODYD"
      },
      "source": [
        "df = pd.read_csv(\"turkiye-student-evaluation_generic.csv\")\n"
      ],
      "execution_count": null,
      "outputs": []
    },
    {
      "cell_type": "code",
      "metadata": {
        "colab": {
          "base_uri": "https://localhost:8080/",
          "height": 417
        },
        "id": "DN_7c1k9Oftr",
        "outputId": "5703e853-ba07-45e2-9bff-dfe217792ed4"
      },
      "source": [
        "X_whole = df.iloc[:, 5:33]\n",
        "X_whole"
      ],
      "execution_count": null,
      "outputs": [
        {
          "output_type": "execute_result",
          "data": {
            "text/html": [
              "<div>\n",
              "<style scoped>\n",
              "    .dataframe tbody tr th:only-of-type {\n",
              "        vertical-align: middle;\n",
              "    }\n",
              "\n",
              "    .dataframe tbody tr th {\n",
              "        vertical-align: top;\n",
              "    }\n",
              "\n",
              "    .dataframe thead th {\n",
              "        text-align: right;\n",
              "    }\n",
              "</style>\n",
              "<table border=\"1\" class=\"dataframe\">\n",
              "  <thead>\n",
              "    <tr style=\"text-align: right;\">\n",
              "      <th></th>\n",
              "      <th>Q1</th>\n",
              "      <th>Q2</th>\n",
              "      <th>Q3</th>\n",
              "      <th>Q4</th>\n",
              "      <th>Q5</th>\n",
              "      <th>Q6</th>\n",
              "      <th>Q7</th>\n",
              "      <th>Q8</th>\n",
              "      <th>Q9</th>\n",
              "      <th>Q10</th>\n",
              "      <th>Q11</th>\n",
              "      <th>Q12</th>\n",
              "      <th>Q13</th>\n",
              "      <th>Q14</th>\n",
              "      <th>Q15</th>\n",
              "      <th>Q16</th>\n",
              "      <th>Q17</th>\n",
              "      <th>Q18</th>\n",
              "      <th>Q19</th>\n",
              "      <th>Q20</th>\n",
              "      <th>Q21</th>\n",
              "      <th>Q22</th>\n",
              "      <th>Q23</th>\n",
              "      <th>Q24</th>\n",
              "      <th>Q25</th>\n",
              "      <th>Q26</th>\n",
              "      <th>Q27</th>\n",
              "      <th>Q28</th>\n",
              "    </tr>\n",
              "  </thead>\n",
              "  <tbody>\n",
              "    <tr>\n",
              "      <th>0</th>\n",
              "      <td>3</td>\n",
              "      <td>3</td>\n",
              "      <td>3</td>\n",
              "      <td>3</td>\n",
              "      <td>3</td>\n",
              "      <td>3</td>\n",
              "      <td>3</td>\n",
              "      <td>3</td>\n",
              "      <td>3</td>\n",
              "      <td>3</td>\n",
              "      <td>3</td>\n",
              "      <td>3</td>\n",
              "      <td>3</td>\n",
              "      <td>3</td>\n",
              "      <td>3</td>\n",
              "      <td>3</td>\n",
              "      <td>3</td>\n",
              "      <td>3</td>\n",
              "      <td>3</td>\n",
              "      <td>3</td>\n",
              "      <td>3</td>\n",
              "      <td>3</td>\n",
              "      <td>3</td>\n",
              "      <td>3</td>\n",
              "      <td>3</td>\n",
              "      <td>3</td>\n",
              "      <td>3</td>\n",
              "      <td>3</td>\n",
              "    </tr>\n",
              "    <tr>\n",
              "      <th>1</th>\n",
              "      <td>3</td>\n",
              "      <td>3</td>\n",
              "      <td>3</td>\n",
              "      <td>3</td>\n",
              "      <td>3</td>\n",
              "      <td>3</td>\n",
              "      <td>3</td>\n",
              "      <td>3</td>\n",
              "      <td>3</td>\n",
              "      <td>3</td>\n",
              "      <td>3</td>\n",
              "      <td>3</td>\n",
              "      <td>3</td>\n",
              "      <td>3</td>\n",
              "      <td>3</td>\n",
              "      <td>3</td>\n",
              "      <td>3</td>\n",
              "      <td>3</td>\n",
              "      <td>3</td>\n",
              "      <td>3</td>\n",
              "      <td>3</td>\n",
              "      <td>3</td>\n",
              "      <td>3</td>\n",
              "      <td>3</td>\n",
              "      <td>3</td>\n",
              "      <td>3</td>\n",
              "      <td>3</td>\n",
              "      <td>3</td>\n",
              "    </tr>\n",
              "    <tr>\n",
              "      <th>2</th>\n",
              "      <td>5</td>\n",
              "      <td>5</td>\n",
              "      <td>5</td>\n",
              "      <td>5</td>\n",
              "      <td>5</td>\n",
              "      <td>5</td>\n",
              "      <td>5</td>\n",
              "      <td>5</td>\n",
              "      <td>5</td>\n",
              "      <td>5</td>\n",
              "      <td>5</td>\n",
              "      <td>5</td>\n",
              "      <td>5</td>\n",
              "      <td>5</td>\n",
              "      <td>5</td>\n",
              "      <td>5</td>\n",
              "      <td>5</td>\n",
              "      <td>5</td>\n",
              "      <td>5</td>\n",
              "      <td>5</td>\n",
              "      <td>5</td>\n",
              "      <td>5</td>\n",
              "      <td>5</td>\n",
              "      <td>5</td>\n",
              "      <td>5</td>\n",
              "      <td>5</td>\n",
              "      <td>5</td>\n",
              "      <td>5</td>\n",
              "    </tr>\n",
              "    <tr>\n",
              "      <th>3</th>\n",
              "      <td>3</td>\n",
              "      <td>3</td>\n",
              "      <td>3</td>\n",
              "      <td>3</td>\n",
              "      <td>3</td>\n",
              "      <td>3</td>\n",
              "      <td>3</td>\n",
              "      <td>3</td>\n",
              "      <td>3</td>\n",
              "      <td>3</td>\n",
              "      <td>3</td>\n",
              "      <td>3</td>\n",
              "      <td>3</td>\n",
              "      <td>3</td>\n",
              "      <td>3</td>\n",
              "      <td>3</td>\n",
              "      <td>3</td>\n",
              "      <td>3</td>\n",
              "      <td>3</td>\n",
              "      <td>3</td>\n",
              "      <td>3</td>\n",
              "      <td>3</td>\n",
              "      <td>3</td>\n",
              "      <td>3</td>\n",
              "      <td>3</td>\n",
              "      <td>3</td>\n",
              "      <td>3</td>\n",
              "      <td>3</td>\n",
              "    </tr>\n",
              "    <tr>\n",
              "      <th>4</th>\n",
              "      <td>1</td>\n",
              "      <td>1</td>\n",
              "      <td>1</td>\n",
              "      <td>1</td>\n",
              "      <td>1</td>\n",
              "      <td>1</td>\n",
              "      <td>1</td>\n",
              "      <td>1</td>\n",
              "      <td>1</td>\n",
              "      <td>1</td>\n",
              "      <td>1</td>\n",
              "      <td>1</td>\n",
              "      <td>1</td>\n",
              "      <td>1</td>\n",
              "      <td>1</td>\n",
              "      <td>1</td>\n",
              "      <td>1</td>\n",
              "      <td>1</td>\n",
              "      <td>1</td>\n",
              "      <td>1</td>\n",
              "      <td>1</td>\n",
              "      <td>1</td>\n",
              "      <td>1</td>\n",
              "      <td>1</td>\n",
              "      <td>1</td>\n",
              "      <td>1</td>\n",
              "      <td>1</td>\n",
              "      <td>1</td>\n",
              "    </tr>\n",
              "    <tr>\n",
              "      <th>...</th>\n",
              "      <td>...</td>\n",
              "      <td>...</td>\n",
              "      <td>...</td>\n",
              "      <td>...</td>\n",
              "      <td>...</td>\n",
              "      <td>...</td>\n",
              "      <td>...</td>\n",
              "      <td>...</td>\n",
              "      <td>...</td>\n",
              "      <td>...</td>\n",
              "      <td>...</td>\n",
              "      <td>...</td>\n",
              "      <td>...</td>\n",
              "      <td>...</td>\n",
              "      <td>...</td>\n",
              "      <td>...</td>\n",
              "      <td>...</td>\n",
              "      <td>...</td>\n",
              "      <td>...</td>\n",
              "      <td>...</td>\n",
              "      <td>...</td>\n",
              "      <td>...</td>\n",
              "      <td>...</td>\n",
              "      <td>...</td>\n",
              "      <td>...</td>\n",
              "      <td>...</td>\n",
              "      <td>...</td>\n",
              "      <td>...</td>\n",
              "    </tr>\n",
              "    <tr>\n",
              "      <th>5815</th>\n",
              "      <td>1</td>\n",
              "      <td>1</td>\n",
              "      <td>1</td>\n",
              "      <td>1</td>\n",
              "      <td>1</td>\n",
              "      <td>1</td>\n",
              "      <td>1</td>\n",
              "      <td>1</td>\n",
              "      <td>1</td>\n",
              "      <td>1</td>\n",
              "      <td>1</td>\n",
              "      <td>1</td>\n",
              "      <td>1</td>\n",
              "      <td>1</td>\n",
              "      <td>1</td>\n",
              "      <td>1</td>\n",
              "      <td>1</td>\n",
              "      <td>1</td>\n",
              "      <td>1</td>\n",
              "      <td>1</td>\n",
              "      <td>1</td>\n",
              "      <td>1</td>\n",
              "      <td>1</td>\n",
              "      <td>1</td>\n",
              "      <td>1</td>\n",
              "      <td>1</td>\n",
              "      <td>1</td>\n",
              "      <td>1</td>\n",
              "    </tr>\n",
              "    <tr>\n",
              "      <th>5816</th>\n",
              "      <td>4</td>\n",
              "      <td>4</td>\n",
              "      <td>4</td>\n",
              "      <td>4</td>\n",
              "      <td>4</td>\n",
              "      <td>4</td>\n",
              "      <td>4</td>\n",
              "      <td>4</td>\n",
              "      <td>4</td>\n",
              "      <td>4</td>\n",
              "      <td>4</td>\n",
              "      <td>5</td>\n",
              "      <td>5</td>\n",
              "      <td>5</td>\n",
              "      <td>5</td>\n",
              "      <td>5</td>\n",
              "      <td>5</td>\n",
              "      <td>5</td>\n",
              "      <td>5</td>\n",
              "      <td>5</td>\n",
              "      <td>5</td>\n",
              "      <td>5</td>\n",
              "      <td>4</td>\n",
              "      <td>5</td>\n",
              "      <td>5</td>\n",
              "      <td>5</td>\n",
              "      <td>5</td>\n",
              "      <td>5</td>\n",
              "    </tr>\n",
              "    <tr>\n",
              "      <th>5817</th>\n",
              "      <td>5</td>\n",
              "      <td>5</td>\n",
              "      <td>5</td>\n",
              "      <td>5</td>\n",
              "      <td>5</td>\n",
              "      <td>5</td>\n",
              "      <td>5</td>\n",
              "      <td>5</td>\n",
              "      <td>5</td>\n",
              "      <td>5</td>\n",
              "      <td>5</td>\n",
              "      <td>5</td>\n",
              "      <td>5</td>\n",
              "      <td>5</td>\n",
              "      <td>5</td>\n",
              "      <td>5</td>\n",
              "      <td>5</td>\n",
              "      <td>5</td>\n",
              "      <td>5</td>\n",
              "      <td>5</td>\n",
              "      <td>5</td>\n",
              "      <td>5</td>\n",
              "      <td>5</td>\n",
              "      <td>5</td>\n",
              "      <td>5</td>\n",
              "      <td>5</td>\n",
              "      <td>5</td>\n",
              "      <td>5</td>\n",
              "    </tr>\n",
              "    <tr>\n",
              "      <th>5818</th>\n",
              "      <td>1</td>\n",
              "      <td>1</td>\n",
              "      <td>1</td>\n",
              "      <td>1</td>\n",
              "      <td>1</td>\n",
              "      <td>1</td>\n",
              "      <td>1</td>\n",
              "      <td>1</td>\n",
              "      <td>1</td>\n",
              "      <td>1</td>\n",
              "      <td>1</td>\n",
              "      <td>1</td>\n",
              "      <td>1</td>\n",
              "      <td>1</td>\n",
              "      <td>1</td>\n",
              "      <td>1</td>\n",
              "      <td>1</td>\n",
              "      <td>1</td>\n",
              "      <td>1</td>\n",
              "      <td>1</td>\n",
              "      <td>1</td>\n",
              "      <td>1</td>\n",
              "      <td>1</td>\n",
              "      <td>1</td>\n",
              "      <td>1</td>\n",
              "      <td>1</td>\n",
              "      <td>1</td>\n",
              "      <td>1</td>\n",
              "    </tr>\n",
              "    <tr>\n",
              "      <th>5819</th>\n",
              "      <td>1</td>\n",
              "      <td>1</td>\n",
              "      <td>1</td>\n",
              "      <td>1</td>\n",
              "      <td>1</td>\n",
              "      <td>1</td>\n",
              "      <td>1</td>\n",
              "      <td>1</td>\n",
              "      <td>1</td>\n",
              "      <td>1</td>\n",
              "      <td>1</td>\n",
              "      <td>1</td>\n",
              "      <td>1</td>\n",
              "      <td>1</td>\n",
              "      <td>1</td>\n",
              "      <td>1</td>\n",
              "      <td>1</td>\n",
              "      <td>1</td>\n",
              "      <td>1</td>\n",
              "      <td>1</td>\n",
              "      <td>1</td>\n",
              "      <td>1</td>\n",
              "      <td>1</td>\n",
              "      <td>1</td>\n",
              "      <td>1</td>\n",
              "      <td>1</td>\n",
              "      <td>1</td>\n",
              "      <td>1</td>\n",
              "    </tr>\n",
              "  </tbody>\n",
              "</table>\n",
              "<p>5820 rows × 28 columns</p>\n",
              "</div>"
            ],
            "text/plain": [
              "      Q1  Q2  Q3  Q4  Q5  Q6  Q7  Q8  Q9  Q10  Q11  Q12  Q13  Q14  Q15  Q16  \\\n",
              "0      3   3   3   3   3   3   3   3   3    3    3    3    3    3    3    3   \n",
              "1      3   3   3   3   3   3   3   3   3    3    3    3    3    3    3    3   \n",
              "2      5   5   5   5   5   5   5   5   5    5    5    5    5    5    5    5   \n",
              "3      3   3   3   3   3   3   3   3   3    3    3    3    3    3    3    3   \n",
              "4      1   1   1   1   1   1   1   1   1    1    1    1    1    1    1    1   \n",
              "...   ..  ..  ..  ..  ..  ..  ..  ..  ..  ...  ...  ...  ...  ...  ...  ...   \n",
              "5815   1   1   1   1   1   1   1   1   1    1    1    1    1    1    1    1   \n",
              "5816   4   4   4   4   4   4   4   4   4    4    4    5    5    5    5    5   \n",
              "5817   5   5   5   5   5   5   5   5   5    5    5    5    5    5    5    5   \n",
              "5818   1   1   1   1   1   1   1   1   1    1    1    1    1    1    1    1   \n",
              "5819   1   1   1   1   1   1   1   1   1    1    1    1    1    1    1    1   \n",
              "\n",
              "      Q17  Q18  Q19  Q20  Q21  Q22  Q23  Q24  Q25  Q26  Q27  Q28  \n",
              "0       3    3    3    3    3    3    3    3    3    3    3    3  \n",
              "1       3    3    3    3    3    3    3    3    3    3    3    3  \n",
              "2       5    5    5    5    5    5    5    5    5    5    5    5  \n",
              "3       3    3    3    3    3    3    3    3    3    3    3    3  \n",
              "4       1    1    1    1    1    1    1    1    1    1    1    1  \n",
              "...   ...  ...  ...  ...  ...  ...  ...  ...  ...  ...  ...  ...  \n",
              "5815    1    1    1    1    1    1    1    1    1    1    1    1  \n",
              "5816    5    5    5    5    5    5    4    5    5    5    5    5  \n",
              "5817    5    5    5    5    5    5    5    5    5    5    5    5  \n",
              "5818    1    1    1    1    1    1    1    1    1    1    1    1  \n",
              "5819    1    1    1    1    1    1    1    1    1    1    1    1  \n",
              "\n",
              "[5820 rows x 28 columns]"
            ]
          },
          "metadata": {},
          "execution_count": 21
        }
      ]
    },
    {
      "cell_type": "code",
      "metadata": {
        "colab": {
          "base_uri": "https://localhost:8080/"
        },
        "id": "_CCXVISWOnCv",
        "outputId": "b5593b83-a9c0-479c-cd4d-295346254602"
      },
      "source": [
        "#reducing n-dimension data (n:28) to 2 dimension\n",
        "from sklearn.decomposition import PCA\n",
        "pca = PCA(n_components=2, random_state=42)\n",
        "X_pca = pca.fit_transform(X_whole)\n",
        "X_pca"
      ],
      "execution_count": null,
      "outputs": [
        {
          "output_type": "execute_result",
          "data": {
            "text/plain": [
              "array([[ 0.98901533,  0.52279815],\n",
              "       [ 0.98901533,  0.52279815],\n",
              "       [-9.59128851,  0.6408021 ],\n",
              "       ...,\n",
              "       [-9.59128851,  0.6408021 ],\n",
              "       [11.56931918,  0.40479421],\n",
              "       [11.56931918,  0.40479421]])"
            ]
          },
          "metadata": {},
          "execution_count": 22
        }
      ]
    },
    {
      "cell_type": "code",
      "metadata": {
        "colab": {
          "base_uri": "https://localhost:8080/"
        },
        "id": "4-vi7F21OpLR",
        "outputId": "aab87437-2b08-4c2a-c803-166707dd91d8"
      },
      "source": [
        "#Normalization\n",
        "from sklearn.preprocessing import StandardScaler\n",
        "\n",
        "sc = StandardScaler()\n",
        "X_pca = pd.DataFrame(sc.fit_transform(X_pca))\n",
        "X_pca = X_pca.to_numpy()\n",
        "print(X_pca)"
      ],
      "execution_count": null,
      "outputs": [
        {
          "output_type": "stream",
          "name": "stdout",
          "text": [
            "[[ 0.16136786  0.36393005]\n",
            " [ 0.16136786  0.36393005]\n",
            " [-1.56491582  0.44607491]\n",
            " ...\n",
            " [-1.56491582  0.44607491]\n",
            " [ 1.88765154  0.28178519]\n",
            " [ 1.88765154  0.28178519]]\n"
          ]
        }
      ]
    },
    {
      "cell_type": "markdown",
      "metadata": {
        "id": "SDaj4-bnR6rD"
      },
      "source": [
        "\n",
        "\n",
        "---\n",
        "\n"
      ]
    },
    {
      "cell_type": "code",
      "metadata": {
        "colab": {
          "base_uri": "https://localhost:8080/"
        },
        "id": "-_XyrgytQCBd",
        "outputId": "320ea156-d8a1-4db5-e044-90f6474c4bf8"
      },
      "source": [
        "#Applying K-means\n",
        "\n",
        "from sklearn.cluster import KMeans\n",
        "from sklearn.metrics import silhouette_samples, silhouette_score\n",
        "\n",
        "# use k=3 and train the model using reduced dataset\n",
        "\n",
        "\n",
        "model = KMeans(n_clusters=3)\n",
        "model.fit(X_pca)  #train the model\n",
        "kmeans_labels = model.predict(X_pca) #cluster assignment\n",
        "kmeans_sse = model.inertia_\n",
        "kmeans_centers = model.cluster_centers_\n",
        "\n",
        "\n",
        "print(\"Cluster Centers: \\n\" , kmeans_centers , \"\\n\" )\n",
        "print(\"Cluster labels: \\n\" ,kmeans_labels , \"\\n\")\n",
        "print(\"SSE : \" , kmeans_sse , \"\\n\")\n",
        "print(\"Silhoutte score:\",silhouette_score(X_pca,kmeans_labels ) ,\"\\n\")\n",
        "\n",
        "\n",
        "from collections import Counter\n",
        "print(\"Elements in each Cluster : \\n \" , Counter(kmeans_labels) ,\"\\n\")"
      ],
      "execution_count": null,
      "outputs": [
        {
          "output_type": "stream",
          "name": "stdout",
          "text": [
            "Cluster Centers: \n",
            " [[-0.52785073  0.36901407]\n",
            " [ 1.44547511  0.3743795 ]\n",
            " [-0.01293389 -1.76214258]] \n",
            "\n",
            "Cluster labels: \n",
            " [0 0 0 ... 0 1 1] \n",
            "\n",
            "SSE :  4159.275915203874 \n",
            "\n",
            "Silhoutte score: 0.5094859710494551 \n",
            "\n",
            "Elements in each Cluster : \n",
            "  Counter({0: 3515, 1: 1293, 2: 1012}) \n",
            "\n"
          ]
        }
      ]
    },
    {
      "cell_type": "markdown",
      "metadata": {
        "id": "BSRx-ZKfSAiL"
      },
      "source": [
        "\n",
        "\n",
        "---\n",
        "\n"
      ]
    },
    {
      "cell_type": "code",
      "metadata": {
        "colab": {
          "base_uri": "https://localhost:8080/"
        },
        "id": "sE1qRSRMQgOd",
        "outputId": "5879a867-bc39-4a7a-cae7-78c8cf6754cb"
      },
      "source": [
        "#Applying k-medoids\n",
        "\n",
        "#importing necessary modules \n",
        "\n",
        "import numpy as np # linear algebra\n",
        "import pandas as pd # data processing, CSV file I/O (e.g. pd.read_csv)\n",
        "\n",
        "import matplotlib.pyplot as plt\n",
        "from sklearn.cluster import KMeans\n",
        "\n",
        "\n",
        "\n",
        "#installing sklearn-extra for k-medoids\n",
        "!pip install scikit-learn-extra\n",
        "\n",
        "\n",
        "from sklearn_extra.cluster import KMedoids\n",
        "\n",
        "\n",
        "\n",
        "\n",
        "kMedoids = KMedoids(n_clusters = 3, random_state = 0)\n",
        "kMedoids.fit(X_pca)\n",
        "\n",
        "kmedoids_labels = kMedoids.fit_predict(X_pca)\n",
        "kmedoids_score = silhouette_score(X_pca, kmedoids_labels)\n",
        "kmedoids_centers = kMedoids.cluster_centers_\n",
        "kmedoids_sse = kMedoids.inertia_\n",
        "\n",
        "\n",
        "\n",
        "print(\"Cluster Centers: \\n\" , kmedoids_centers ,\"\\n\")\n",
        "print(\"labels: \\n\" , kmedoids_labels,\"\\n\")\n",
        "print(\"Silhouete Score: \\n\" ,kmedoids_score , \"\\n\")\n",
        "print(\"SSE : \" ,kmedoids_sse , \"\\n\" )\n",
        "\n",
        "from collections import Counter\n",
        "print(\"Elements in each cluster : \\n\" , Counter(kmedoids_labels) ,\"\\n\")"
      ],
      "execution_count": null,
      "outputs": [
        {
          "output_type": "stream",
          "name": "stdout",
          "text": [
            "Requirement already satisfied: scikit-learn-extra in /usr/local/lib/python3.7/dist-packages (0.2.0)\n",
            "Requirement already satisfied: scikit-learn>=0.23.0 in /usr/local/lib/python3.7/dist-packages (from scikit-learn-extra) (1.0.1)\n",
            "Requirement already satisfied: numpy>=1.13.3 in /usr/local/lib/python3.7/dist-packages (from scikit-learn-extra) (1.21.4)\n",
            "Requirement already satisfied: scipy>=0.19.1 in /usr/local/lib/python3.7/dist-packages (from scikit-learn-extra) (1.4.1)\n",
            "Requirement already satisfied: threadpoolctl>=2.0.0 in /usr/local/lib/python3.7/dist-packages (from scikit-learn>=0.23.0->scikit-learn-extra) (3.0.0)\n",
            "Requirement already satisfied: joblib>=0.11 in /usr/local/lib/python3.7/dist-packages (from scikit-learn>=0.23.0->scikit-learn-extra) (1.1.0)\n",
            "Cluster Centers: \n",
            " [[-0.70177398  0.40500248]\n",
            " [-0.05800144 -1.47967692]\n",
            " [ 0.34815502  0.34146537]] \n",
            "\n",
            "labels: \n",
            " [2 2 0 ... 0 2 2] \n",
            "\n",
            "Silhouete Score: \n",
            " 0.48419971324134353 \n",
            "\n",
            "SSE :  4043.736739510702 \n",
            "\n",
            "Elements in each cluster : \n",
            " Counter({2: 2644, 0: 2089, 1: 1087}) \n",
            "\n"
          ]
        }
      ]
    },
    {
      "cell_type": "markdown",
      "metadata": {
        "id": "eReDxZC0SN3K"
      },
      "source": [
        "\n",
        "\n",
        "---\n",
        "\n"
      ]
    },
    {
      "cell_type": "code",
      "metadata": {
        "colab": {
          "base_uri": "https://localhost:8080/"
        },
        "id": "o8KRSJyhQ7e5",
        "outputId": "345767c0-42fb-4343-bbe3-eaa611cd161b"
      },
      "source": [
        "#Applying FCM\n",
        "\n",
        "!pip install fuzzy-c-means\n",
        "\n",
        "#Trained the model using reduced dataset\n",
        "import numpy as np\n",
        "import pandas as pd\n",
        "from fcmeans import FCM\n",
        "from sklearn.metrics import silhouette_score\n",
        "\n",
        "\n",
        "fcm = FCM(n_clusters=3)\n",
        "fcm.fit(X_pca)\n",
        "\n",
        "fcm_centers = fcm.centers\n",
        "fcm_labels = fcm.predict(X_pca)\n",
        "fcm_sse = fcm.error\n",
        "\n",
        "print(\"Cluster Centers : \\n \", fcm_centers , \"\\n\")\n",
        "print(\"Cluster labels : \\n \", fcm_labels , \"\\n\")\n",
        "print(\"Silhouette Coefficient: \", silhouette_score(X_pca, fcm_labels) ,\"\\n\")\n",
        "print(\"SSE : \" , fcm_sse , \"\\n\")\n",
        "\n",
        "from collections import Counter\n",
        "print(\"Elements in each Cluster : \\n\" , Counter(fcm_labels) ,\"\\n\")"
      ],
      "execution_count": null,
      "outputs": [
        {
          "output_type": "stream",
          "name": "stdout",
          "text": [
            "Requirement already satisfied: fuzzy-c-means in /usr/local/lib/python3.7/dist-packages (1.6.3)\n",
            "Requirement already satisfied: typer<0.4.0,>=0.3.2 in /usr/local/lib/python3.7/dist-packages (from fuzzy-c-means) (0.3.2)\n",
            "Requirement already satisfied: pydantic<2.0.0,>=1.8.2 in /usr/local/lib/python3.7/dist-packages (from fuzzy-c-means) (1.8.2)\n",
            "Requirement already satisfied: numpy<2.0.0,>=1.21.1 in /usr/local/lib/python3.7/dist-packages (from fuzzy-c-means) (1.21.4)\n",
            "Requirement already satisfied: tabulate<0.9.0,>=0.8.9 in /usr/local/lib/python3.7/dist-packages (from fuzzy-c-means) (0.8.9)\n",
            "Requirement already satisfied: typing-extensions>=3.7.4.3 in /usr/local/lib/python3.7/dist-packages (from pydantic<2.0.0,>=1.8.2->fuzzy-c-means) (3.10.0.2)\n",
            "Requirement already satisfied: click<7.2.0,>=7.1.1 in /usr/local/lib/python3.7/dist-packages (from typer<0.4.0,>=0.3.2->fuzzy-c-means) (7.1.2)\n",
            "Cluster Centers : \n",
            "  [[-0.71283772  0.37215009]\n",
            " [ 1.25996975  0.31797097]\n",
            " [-0.05178907 -1.58704808]] \n",
            "\n",
            "Cluster labels : \n",
            "  [0 0 0 ... 0 1 1] \n",
            "\n",
            "Silhouette Coefficient:  0.49885037434753104 \n",
            "\n",
            "SSE :  1e-05 \n",
            "\n",
            "Elements in each Cluster : \n",
            " Counter({0: 3375, 1: 1375, 2: 1070}) \n",
            "\n"
          ]
        }
      ]
    },
    {
      "cell_type": "markdown",
      "metadata": {
        "id": "ME5-wI9uSRiv"
      },
      "source": [
        "\n",
        "\n",
        "---\n",
        "\n",
        "\n",
        "\n",
        "---\n",
        "\n"
      ]
    },
    {
      "cell_type": "code",
      "metadata": {
        "colab": {
          "base_uri": "https://localhost:8080/"
        },
        "id": "Hoz1UkqlRaKy",
        "outputId": "f720e353-efd2-4c8b-edd1-1baaa3043ca2"
      },
      "source": [
        "#Applying Som\n",
        "\n",
        "#Trained the model using reduced dataset\n",
        "\n",
        "!pip install sklearn-som\n",
        "import numpy as np\n",
        "import pandas as pd\n",
        "import matplotlib.pyplot as plt\n",
        "import random\n",
        "from sklearn_som.som import SOM\n",
        "model = SOM(m=3, n=1, dim=2)\n",
        "model.fit((pd.DataFrame(X_pca)).values)\n",
        "som_labels = model.predict((pd.DataFrame(X_pca)).values)\n",
        "som_centers = model.cluster_centers_\n",
        "som_sse = model.inertia_\n",
        "\n",
        "\n",
        "print(\"\\n\" ,\"Cluster Centers : \\n \", som_centers , \"\\n\")\n",
        "print(\"Cluster labels : \\n \", som_labels , \"\\n\")\n",
        "print(\"Silhouette Coefficient: \", silhouette_score(X_pca, som_labels) ,\"\\n\")\n",
        "print(\"SSE : \" , som_sse,\"\\n\")\n",
        "\n",
        "\n",
        "\n",
        "from collections import Counter\n",
        "print(\"Elements in each Cluster : \\n\" , Counter(som_labels) ,\"\\n\")"
      ],
      "execution_count": null,
      "outputs": [
        {
          "output_type": "stream",
          "name": "stdout",
          "text": [
            "Requirement already satisfied: sklearn-som in /usr/local/lib/python3.7/dist-packages (1.1.0)\n",
            "Requirement already satisfied: numpy in /usr/local/lib/python3.7/dist-packages (from sklearn-som) (1.21.4)\n",
            "\n",
            " Cluster Centers : \n",
            "  [[[ 0.70912243  0.42030658]]\n",
            "\n",
            " [[-0.14330576  0.25442894]]\n",
            "\n",
            " [[-0.6099788  -0.20038004]]] \n",
            "\n",
            "Cluster labels : \n",
            "  [1 1 2 ... 2 0 0] \n",
            "\n",
            "Silhouette Coefficient:  0.3356036306959302 \n",
            "\n",
            "SSE :  7409.703049983328 \n",
            "\n",
            "Elements in each Cluster : \n",
            " Counter({1: 2303, 2: 2046, 0: 1471}) \n",
            "\n"
          ]
        }
      ]
    },
    {
      "cell_type": "markdown",
      "metadata": {
        "id": "wBW9s7woSXQ3"
      },
      "source": [
        "\n",
        "\n",
        "---\n",
        "\n"
      ]
    },
    {
      "cell_type": "code",
      "metadata": {
        "colab": {
          "base_uri": "https://localhost:8080/",
          "height": 313
        },
        "id": "Id7L2BErSYAZ",
        "outputId": "509e9475-9244-4599-d5f3-14b81abc6346"
      },
      "source": [
        "#comparing different Silhouette Score values now \n",
        "\n",
        "from matplotlib import pyplot as plt\n",
        "\n",
        "plt.title(\"Silhoutte Score Comparision\")\n",
        "\n",
        "# Data\n",
        "algo = ['K-Means', 'K-Medoids', 'FCM', 'SOM']\n",
        "score  = [.509, .484, .498, .335]\n",
        "\n",
        "# Plot\n",
        "plt.bar(algo, score, width=0.50, edgecolor='k', linewidth=2)\n",
        "\n",
        "plt.xlabel(\"Algorithms\")\n",
        "plt.ylabel(\"Silhouette-Score\")\n"
      ],
      "execution_count": null,
      "outputs": [
        {
          "output_type": "execute_result",
          "data": {
            "text/plain": [
              "Text(0, 0.5, 'Silhouette-Score')"
            ]
          },
          "metadata": {},
          "execution_count": 28
        },
        {
          "output_type": "display_data",
          "data": {
            "image/png": "[encoded data removed]",
            "text/plain": [
              "<Figure size 432x288 with 1 Axes>"
            ]
          },
          "metadata": {
            "needs_background": "light"
          }
        }
      ]
    },
    {
      "cell_type": "code",
      "metadata": {
        "id": "9BxJAhOgTL6X",
        "colab": {
          "base_uri": "https://localhost:8080/",
          "height": 313
        },
        "outputId": "5aa117f1-0803-4393-8c75-89d4f172c226"
      },
      "source": [
        "#comparing different Silhouette Score values\n",
        "\n",
        "from matplotlib import pyplot as plt\n",
        "\n",
        "plt.title(\"Silhoutte Score Comparision\")\n",
        "\n",
        "# Data\n",
        "algo = ['K-Means', 'K-Medoids', 'FCM', 'SOM']\n",
        "score  = [.574, .563, .573, .549]\n",
        "\n",
        "# Plot\n",
        "plt.bar(algo, score, width=0.50, edgecolor='k', linewidth=2)\n",
        "\n",
        "plt.xlabel(\"Algorithms\")\n",
        "plt.ylabel(\"Silhouette-Score\")\n"
      ],
      "execution_count": null,
      "outputs": [
        {
          "output_type": "execute_result",
          "data": {
            "text/plain": [
              "Text(0, 0.5, 'Silhouette-Score')"
            ]
          },
          "metadata": {},
          "execution_count": 29
        },
        {
          "output_type": "display_data",
          "data": {
            "image/png": "[encoded data removed]",
            "text/plain": [
              "<Figure size 432x288 with 1 Axes>"
            ]
          },
          "metadata": {
            "needs_background": "light"
          }
        }
      ]
    }
  ]
}